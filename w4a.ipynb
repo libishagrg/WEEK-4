{
 "cells": [
  {
   "cell_type": "code",
   "execution_count": 1,
   "metadata": {},
   "outputs": [
    {
     "name": "stdout",
     "output_type": "stream",
     "text": [
      "Student with highest score: Eve\n",
      "Students who scored 50 & above: {'John': 80, 'Alice': 50, 'Bob': 60, 'Eve': 90}\n",
      "Sorted students based on marks in descending order: {'Eve': 90, 'John': 80, 'Bob': 60, 'Alice': 50}\n"
     ]
    }
   ],
   "source": [
    "# You are given a dicationary that stores student names as keys and their scores as values.\n",
    "# Find and print the student with the highest score.\n",
    "# Remove students who scored below 50.\n",
    "# Sort the dictionary based on marks in descending order and print.\n",
    "\n",
    "students = {\n",
    "    'John': 80,\n",
    "    'Alice': 50,\n",
    "    'Bob': 60,\n",
    "    'Charlie': 30,\n",
    "    'David': 40,\n",
    "    'Eve': 90\n",
    "}\n",
    "highest_score = None\n",
    "highest_score_student = 0\n",
    "for student, score in students.items():\n",
    "    if score > highest_score_student:\n",
    "        highest_score_student = score\n",
    "        highest_score = student\n",
    "print(\"Student with highest score:\", highest_score)\n",
    "\n",
    "students = {student: score for student, score in students.items() if score >= 50}\n",
    "print(\"Students who scored 50 & above:\", students)\n",
    "\n",
    "student_list = list(students.items())\n",
    "for i in range(len(student_list)):\n",
    "    for j in range(i + 1, len(student_list)):\n",
    "        if student_list[i][1] < student_list[j][1]:\n",
    "            student_list[i], student_list[j] = student_list[j], student_list[i]\n",
    "students = dict(student_list)\n",
    "print(\"Sorted students based on marks in descending order:\", students)\n",
    "\n",
    "\n"
   ]
  },
  {
   "cell_type": "code",
   "execution_count": 2,
   "metadata": {},
   "outputs": [
    {
     "name": "stdout",
     "output_type": "stream",
     "text": [
      "sum of odd numbers: 25\n"
     ]
    }
   ],
   "source": [
    "# write a function in python that takes lists as an argument and uses a lambda function to filter out \n",
    "# the even numbers from the list and then finds the sum of the remaining odd numbers using a loop.\n",
    "\n",
    "def sum_odd_numbers(num):\n",
    "    odd_numbers = list(filter(lambda x: x % 2 != 0, num))\n",
    "    total = 0\n",
    "    for i in odd_numbers:\n",
    "        total += i\n",
    "    return total\n",
    "\n",
    "num = [1, 2, 3, 4, 5, 6, 7, 8, 9, 10]\n",
    "print(\"sum of odd numbers:\", sum_odd_numbers(num))"
   ]
  },
  {
   "cell_type": "code",
   "execution_count": 8,
   "metadata": {},
   "outputs": [
    {
     "name": "stdout",
     "output_type": "stream",
     "text": [
      "word count: 91\n"
     ]
    }
   ],
   "source": [
    "# read a saved file and read the word count written in the file\n",
    "count = 0\n",
    "with open(\"file.txt\", \"r\") as file:\n",
    "    for line in file:\n",
    "        words = line.split()\n",
    "        count += len(words)\n",
    "print(\"word count:\", count)"
   ]
  },
  {
   "cell_type": "code",
   "execution_count": 10,
   "metadata": {},
   "outputs": [
    {
     "name": "stdout",
     "output_type": "stream",
     "text": [
      "The rapid advancement of technology has transformed the way we live, work, and communicate. \n",
      "From artificial intelligence to space exploration, innovation continues to push the boundaries of what was \n",
      "once thought impossible. The internet has connected people across the globe, making information more accessible \n",
      "than ever before. However, with these advancements come challenges, such as privacy concerns, cybersecurity threats,\n",
      "and the ethical implications of AI. As we move forward, it is crucial to find a balance between progress and \n",
      "responsibility, ensuring that technology serves humanity in a positive and sustainable way.\n"
     ]
    }
   ],
   "source": [
    "#Write a Python function read_file_content(file_path) that takes the path of a text file as input \n",
    "# and returns its content as a string.Write another function write_to_file(file_path, content) \n",
    "# that takes a file path and a string content as input and writes the content to the file. \n",
    "\n",
    "def read_file_content(file_path):\n",
    "    with open(file_path, \"r\") as file:\n",
    "        content = file.read()\n",
    "    return content\n",
    "print(read_file_content(\"file.txt\"))\n",
    "  \n"
   ]
  },
  {
   "cell_type": "code",
   "execution_count": 11,
   "metadata": {},
   "outputs": [
    {
     "name": "stdout",
     "output_type": "stream",
     "text": [
      "responsibility,\n"
     ]
    }
   ],
   "source": [
    "# Write a function find_longest_word(file_path) that reads a text file and returns the longest word in the file.\n",
    "\n",
    "def find_longest_word(file_path):\n",
    "    with open(file_path, \"r\") as file:\n",
    "        words = file.read().split()\n",
    "    longest_word = max(words, key=len)\n",
    "    return longest_word\n",
    "print(find_longest_word(\"file.txt\"))"
   ]
  },
  {
   "cell_type": "code",
   "execution_count": 17,
   "metadata": {},
   "outputs": [
    {
     "name": "stdout",
     "output_type": "stream",
     "text": [
      "True\n"
     ]
    }
   ],
   "source": [
    "# Write a function check_file_empty(file_path) that takes a file path as input and returns \n",
    "# True if the file is empty, and False otherwise.\n",
    "\n",
    "def check_file_empty(file_path):\n",
    "    with open(file_path, \"r\") as file:\n",
    "        content = file.read()\n",
    "    if len(content) == 0:\n",
    "        return True\n",
    "    return False\n",
    "print(check_file_empty(\"a.txt\"))"
   ]
  },
  {
   "cell_type": "code",
   "execution_count": 13,
   "metadata": {},
   "outputs": [
    {
     "name": "stdout",
     "output_type": "stream",
     "text": [
      ".yaw elbaniatsus dna evitisop a ni ytinamuh sevres ygolonhcet taht gnirusne ,ytilibisnopser\n",
      " dna ssergorp neewteb ecnalab a dnif ot laicurc si ti ,drawrof evom ew sA .IA fo snoitacilpmi lacihte eht dna\n",
      ",staerht ytirucesrebyc ,snrecnoc ycavirp sa hcus ,segnellahc emoc stnemecnavda eseht htiw ,revewoH .erofeb reve naht\n",
      " elbissecca erom noitamrofni gnikam ,ebolg eht ssorca elpoep detcennoc sah tenretni ehT .elbissopmi thguoht ecno\n",
      " saw tahw fo seiradnuob eht hsup ot seunitnoc noitavonni ,noitarolpxe ecaps ot ecnegilletni laicifitra morF\n",
      " .etacinummoc dna ,krow ,evil ew yaw eht demrofsnart sah ygolonhcet fo tnemecnavda dipar ehT\n"
     ]
    }
   ],
   "source": [
    "# Write a function reverse_file_content(file_path) that reads a text file and writes its content in \n",
    "# reverse order to a new file named reversed.txt.\n",
    "\n",
    "def reverse_file_content(file_path):\n",
    "    with open(file_path, \"r\") as file:\n",
    "        content = file.read()\n",
    "    with open(\"reversed.txt\", \"w\") as file:\n",
    "        file.write(content[::-1])\n",
    "reverse_file_content(\"file.txt\")\n",
    "print(read_file_content(\"reversed.txt\"))"
   ]
  },
  {
   "cell_type": "code",
   "execution_count": 14,
   "metadata": {},
   "outputs": [
    {
     "name": "stdout",
     "output_type": "stream",
     "text": [
      "['HELLO', 'WORLD', 'PYTHON']\n"
     ]
    }
   ],
   "source": [
    "# Write a Python function convert_to_uppercase that:\n",
    "# Accepts a list of strings.\n",
    "# Uses a lambda function inside map() to convert all strings in the list to uppercase.\n",
    "# Return the list of uppercase strings.\n",
    "\n",
    "def convert_to_uppercase(strings):\n",
    "    return list(map(lambda x: x.upper(), strings))\n",
    "strings = [\"hello\", \"world\", \"python\"]\n",
    "print(convert_to_uppercase(strings))\n"
   ]
  },
  {
   "cell_type": "code",
   "execution_count": 15,
   "metadata": {},
   "outputs": [
    {
     "name": "stdout",
     "output_type": "stream",
     "text": [
      "['python']\n"
     ]
    }
   ],
   "source": [
    "# Write a Python function filter_even_length_words that:\n",
    "# Accepts a list of strings.\n",
    "# Uses a lambda function inside the filter() function to return only words that have an even length.\n",
    "\n",
    "def filter_even_length_words(strings):\n",
    "    return list(filter(lambda x: len(x) % 2 == 0, strings))\n",
    "strings = [\"hello\", \"world\", \"python\"]\n",
    "print(filter_even_length_words(strings))"
   ]
  },
  {
   "cell_type": "code",
   "execution_count": 16,
   "metadata": {},
   "outputs": [
    {
     "name": "stdout",
     "output_type": "stream",
     "text": [
      "THE RAPID ADVANCEMENT OF TECHNOLOGY HAS TRANSFORMED THE WAY WE LIVE, WORK, AND COMMUNICATE. \n",
      "FROM ARTIFICIAL INTELLIGENCE TO SPACE EXPLORATION, INNOVATION CONTINUES TO PUSH THE BOUNDARIES OF WHAT WAS \n",
      "ONCE THOUGHT IMPOSSIBLE. THE INTERNET HAS CONNECTED PEOPLE ACROSS THE GLOBE, MAKING INFORMATION MORE ACCESSIBLE \n",
      "THAN EVER BEFORE. HOWEVER, WITH THESE ADVANCEMENTS COME CHALLENGES, SUCH AS PRIVACY CONCERNS, CYBERSECURITY THREATS,\n",
      "AND THE ETHICAL IMPLICATIONS OF AI. AS WE MOVE FORWARD, IT IS CRUCIAL TO FIND A BALANCE BETWEEN PROGRESS AND \n",
      "RESPONSIBILITY, ENSURING THAT TECHNOLOGY SERVES HUMANITY IN A POSITIVE AND SUSTAINABLE WAY.\n"
     ]
    }
   ],
   "source": [
    "# Write a function process_file_with_lambda that:\n",
    "# Takes a file name as input.\n",
    "# Reads each line from the file and uses a lambda function to convert each word in the line to uppercase.\n",
    "# Write the processed lines back to the file.\n",
    "\n",
    "def process_file_with_lambda(file_name):\n",
    "    with open(file_name, \"r\") as file:\n",
    "        lines = file.readlines()\n",
    "    processed_lines = list(map(lambda x: x.upper(), lines))\n",
    "    with open(file_name, \"w\") as file:\n",
    "        file.writelines(processed_lines)\n",
    "process_file_with_lambda(\"file.txt\")\n",
    "print(read_file_content(\"file.txt\"))"
   ]
  },
  {
   "cell_type": "code",
   "execution_count": null,
   "metadata": {},
   "outputs": [],
   "source": []
  }
 ],
 "metadata": {
  "kernelspec": {
   "display_name": "Python 3",
   "language": "python",
   "name": "python3"
  },
  "language_info": {
   "codemirror_mode": {
    "name": "ipython",
    "version": 3
   },
   "file_extension": ".py",
   "mimetype": "text/x-python",
   "name": "python",
   "nbconvert_exporter": "python",
   "pygments_lexer": "ipython3",
   "version": "3.9.6"
  }
 },
 "nbformat": 4,
 "nbformat_minor": 2
}
